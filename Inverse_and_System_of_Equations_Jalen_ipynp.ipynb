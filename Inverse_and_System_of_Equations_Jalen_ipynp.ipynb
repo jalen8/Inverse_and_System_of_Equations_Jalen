{
  "nbformat": 4,
  "nbformat_minor": 0,
  "metadata": {
    "colab": {
      "provenance": []
    },
    "kernelspec": {
      "name": "python3",
      "display_name": "Python 3"
    },
    "language_info": {
      "name": "python"
    }
  },
  "cells": [
    {
      "cell_type": "markdown",
      "source": [
        "**Practice Problems**"
      ],
      "metadata": {
        "id": "6bBR1Ox9E0Ns"
      }
    },
    {
      "cell_type": "markdown",
      "source": [
        "\n",
        "\n",
        "*   Problem 1\n"
      ],
      "metadata": {
        "id": "JPI-n9lfE2qP"
      }
    },
    {
      "cell_type": "code",
      "source": [
        "import numpy as np\n",
        "\n",
        "# Define a 2x2 matrix\n",
        "A = np.array([[3, 4],\n",
        "              [2, 5]])\n",
        "\n",
        "# Check if the matrix is invertible\n",
        "det_A = np.linalg.det(A)\n",
        "print(\"Problem 1:\")\n",
        "print(f\"Determinant of A: {det_A}\")\n",
        "\n",
        "if det_A != 0:\n",
        "    # Calculate the inverse\n",
        "    A_inv = np.linalg.inv(A)\n",
        "    print(\"Inverse of A:\")\n",
        "    print(A_inv)\n",
        "else:\n",
        "    print(\"Matrix A is not invertible.\")"
      ],
      "metadata": {
        "colab": {
          "base_uri": "https://localhost:8080/"
        },
        "id": "Ipsppmk8FD4_",
        "outputId": "23b4111f-d814-46ee-d742-9f6f133430b5"
      },
      "execution_count": null,
      "outputs": [
        {
          "output_type": "stream",
          "name": "stdout",
          "text": [
            "Problem 1:\n",
            "Determinant of A: 7.000000000000001\n",
            "Inverse of A:\n",
            "[[ 0.71428571 -0.57142857]\n",
            " [-0.28571429  0.42857143]]\n"
          ]
        }
      ]
    },
    {
      "cell_type": "markdown",
      "source": [
        "*   Problem 2"
      ],
      "metadata": {
        "id": "0zsuT8YbE2sP"
      }
    },
    {
      "cell_type": "code",
      "source": [
        "# Coefficient matrix A\n",
        "A = np.array([[2, 3],\n",
        "              [4, -1]])\n",
        "\n",
        "# Constant vector b\n",
        "b = np.array([7, 5])\n",
        "\n",
        "# Solve for x using matrix inverse\n",
        "if np.linalg.det(A) != 0:\n",
        "    x = np.linalg.inv(A).dot(b)\n",
        "    print(\"Solution for [x, y]:\")\n",
        "    print(x)\n",
        "else:\n",
        "    print(\"Matrix A is not invertible, no unique solution.\")"
      ],
      "metadata": {
        "colab": {
          "base_uri": "https://localhost:8080/"
        },
        "id": "stIpNmnBFhDr",
        "outputId": "761aef1f-d408-4ac4-9fdc-a6cb866e853c"
      },
      "execution_count": null,
      "outputs": [
        {
          "output_type": "stream",
          "name": "stdout",
          "text": [
            "Solution for [x, y]:\n",
            "[1.57142857 1.28571429]\n"
          ]
        }
      ]
    },
    {
      "cell_type": "markdown",
      "source": [
        "\n",
        "\n",
        "*   Problem 3\n",
        "\n"
      ],
      "metadata": {
        "id": "i9mYslbYE2ui"
      }
    },
    {
      "cell_type": "code",
      "source": [
        "# Define the matrix A\n",
        "A = np.array([[1, 2, 3],\n",
        "              [0, 1, 4],\n",
        "              [5, 6, 0]])\n",
        "\n",
        "# Check if the matrix is invertible\n",
        "det_A = np.linalg.det(A)\n",
        "print(f\"Determinant of A: {det_A}\")\n",
        "\n",
        "if det_A != 0:\n",
        "    # Calculate the inverse\n",
        "    A_inv = np.linalg.inv(A)\n",
        "    print(\"Inverse of A:\")\n",
        "    print(A_inv)\n",
        "else:\n",
        "    print(\"Matrix A is not invertible.\")"
      ],
      "metadata": {
        "colab": {
          "base_uri": "https://localhost:8080/"
        },
        "id": "Cgmkjnu-FoF8",
        "outputId": "5c2d8fb3-85b2-44e8-d53f-56ef4f285b4a"
      },
      "execution_count": null,
      "outputs": [
        {
          "output_type": "stream",
          "name": "stdout",
          "text": [
            "Determinant of A: 0.9999999999999964\n",
            "Inverse of A:\n",
            "[[-24.  18.   5.]\n",
            " [ 20. -15.  -4.]\n",
            " [ -5.   4.   1.]]\n"
          ]
        }
      ]
    },
    {
      "cell_type": "markdown",
      "source": [
        "\n",
        "\n",
        "*   Problem 4\n",
        "\n"
      ],
      "metadata": {
        "id": "Ewgt1wBNE2wz"
      }
    },
    {
      "cell_type": "code",
      "source": [
        "# Define matrix A and vector B\n",
        "A = np.array([[1, 1, 1],\n",
        "              [2, 5, 1],\n",
        "              [2, 3, 8]])\n",
        "\n",
        "B = np.array([6,-4,9])\n",
        "\n",
        "# Check if the matrix is invertible\n",
        "det_A = np.linalg.det(A)\n",
        "print(f\"Determinant of A: {det_A}\")\n",
        "\n",
        "if det_A != 0:\n",
        "    # Calculate the inverse\n",
        "    A_inv = np.linalg.inv(A)\n",
        "    # Solve for X\n",
        "    X = np.dot(A_inv, B)\n",
        "    print(\"Solution (x, y, z):\")\n",
        "    print(X)\n",
        "else:\n",
        "    print(\"Matrix A is not invertible.\")\n"
      ],
      "metadata": {
        "colab": {
          "base_uri": "https://localhost:8080/"
        },
        "id": "RdcNNvd1FvCD",
        "outputId": "5ef2c8c3-b30e-498d-d22a-97ea83a5a162"
      },
      "execution_count": null,
      "outputs": [
        {
          "output_type": "stream",
          "name": "stdout",
          "text": [
            "Determinant of A: 18.999999999999996\n",
            "Solution (x, y, z):\n",
            "[10.84210526 -5.21052632  0.36842105]\n"
          ]
        }
      ]
    },
    {
      "cell_type": "markdown",
      "source": [
        "\n",
        "\n",
        "*   Problem 5\n",
        "\n"
      ],
      "metadata": {
        "id": "lTuMvt9lE2zL"
      }
    },
    {
      "cell_type": "code",
      "source": [
        "# Define matrix A and vector b\n",
        "A = np.array([[4, -1, 0],\n",
        "              [3, 5, 2],\n",
        "              [-2, 4, 1]])\n",
        "\n",
        "b = np.array([5,6,2])\n",
        "\n",
        "# Check if the matrix is invertible\n",
        "det_A = np.linalg.det(A)\n",
        "print(f\"Determinant of A: {det_A}\")\n",
        "\n",
        "if det_A != 0:\n",
        "    # Calculate the inverse\n",
        "    A_inv = np.linalg.inv(A)\n",
        "    # Solve for x\n",
        "    x = np.dot(A_inv, b)\n",
        "    print(\"Solution (x, y, z):\")\n",
        "    print(x)\n",
        "else:\n",
        "    print(\"Matrix A is not invertible.\")"
      ],
      "metadata": {
        "colab": {
          "base_uri": "https://localhost:8080/"
        },
        "id": "WJAPpaEDF2n6",
        "outputId": "9e65e0da-42bc-4ead-c743-6239082ebb5c"
      },
      "execution_count": null,
      "outputs": [
        {
          "output_type": "stream",
          "name": "stdout",
          "text": [
            "Determinant of A: -5.000000000000002\n",
            "Solution (x, y, z):\n",
            "[  2.6   5.4 -14.4]\n"
          ]
        }
      ]
    },
    {
      "cell_type": "markdown",
      "source": [
        "**Bonus Challenge**"
      ],
      "metadata": {
        "id": "bz0TalsOE21T"
      }
    },
    {
      "cell_type": "code",
      "source": [
        "def check_and_inverse(matrix):\n",
        "    \"\"\"\n",
        "    Check if the given n x n matrix is invertible and return its inverse if it is.\n",
        "\n",
        "    Parameters:\n",
        "    matrix (np.ndarray): An n x n matrix.\n",
        "\n",
        "    Returns:\n",
        "    np.ndarray or None: Inverse of the matrix if it is invertible, None otherwise.\n",
        "    \"\"\"\n",
        "    # Check if the input is a square matrix\n",
        "    if matrix.ndim != 2 or matrix.shape[0] != matrix.shape[1]:\n",
        "        print(\"The matrix is not square, and therefore not invertible.\")\n",
        "        return None\n",
        "\n",
        "    # Calculate the determinant\n",
        "    det = np.linalg.det(matrix)\n",
        "    print(f\"Determinant: {det}\")\n",
        "\n",
        "    if det != 0:\n",
        "        # If the determinant is non-zero, the matrix is invertible\n",
        "        inverse_matrix = np.linalg.inv(matrix)\n",
        "        return inverse_matrix\n",
        "    else:\n",
        "        # If the determinant is zero, the matrix is not invertible\n",
        "        print(\"The matrix is not invertible.\")\n",
        "        return None"
      ],
      "metadata": {
        "id": "_HL3aquQGC9a"
      },
      "execution_count": null,
      "outputs": []
    },
    {
      "cell_type": "markdown",
      "source": [
        "**Example Usage**\n"
      ],
      "metadata": {
        "id": "_p_-TvJlE241"
      }
    },
    {
      "cell_type": "code",
      "source": [
        "A = np.array([[4, -1, 0],\n",
        "              [3, 5, 2],\n",
        "              [-2, 4, 1]])\n",
        "\n",
        "inverse_A = check_and_inverse(A)\n",
        "\n",
        "if inverse_A is not None:\n",
        "    print(\"Inverse of the matrix:\")\n",
        "    print(inverse_A)"
      ],
      "metadata": {
        "colab": {
          "base_uri": "https://localhost:8080/"
        },
        "id": "1YaPgiOlGCQX",
        "outputId": "6b9d9f5b-0758-4c2c-9d9a-825695608fdf"
      },
      "execution_count": null,
      "outputs": [
        {
          "output_type": "stream",
          "name": "stdout",
          "text": [
            "Determinant: -5.000000000000002\n",
            "Inverse of the matrix:\n",
            "[[ 0.6 -0.2  0.4]\n",
            " [ 1.4 -0.8  1.6]\n",
            " [-4.4  2.8 -4.6]]\n"
          ]
        }
      ]
    },
    {
      "cell_type": "code",
      "source": [],
      "metadata": {
        "id": "F7kQOEN8GIkH"
      },
      "execution_count": null,
      "outputs": []
    }
  ]
}